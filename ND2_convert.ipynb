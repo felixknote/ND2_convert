{
 "cells": [
  {
   "cell_type": "code",
   "execution_count": 1,
   "id": "f1d5dab3-fb7b-4c33-93f8-09f72f59a218",
   "metadata": {},
   "outputs": [],
   "source": [
    "import os\n",
    "import time\n",
    "import nd2\n",
    "import tifffile\n",
    "from warnings import filterwarnings\n",
    "from tqdm import tqdm\n",
    "# Suppress specific warnings if needed\n",
    "filterwarnings(\"ignore\", category=UserWarning)"
   ]
  },
  {
   "cell_type": "code",
   "execution_count": 2,
   "id": "c201f597-b3f9-42a1-8f20-40fc81eb1cf2",
   "metadata": {
    "editable": true,
    "slideshow": {
     "slide_type": ""
    },
    "tags": []
   },
   "outputs": [],
   "source": [
    "# Set input and output directories\n",
    "data_directory = r\"L:\\43-RVZ\\AIMicroscopy\\Mitarbeiter\\2_Data\\1_NikonTi2\\FK_P001_EX004_2025_03_04 60xWI 1.5x KEIO Plate61\\AF\"\n",
    "output_directory = data_directory"
   ]
  },
  {
   "cell_type": "code",
   "execution_count": 3,
   "id": "243c27fb-ffda-44b7-9124-b6149b33eb07",
   "metadata": {},
   "outputs": [],
   "source": [
    "# Function to convert ND2 to TIF\n",
    "def convert_nd2_to_tif(nd2_file_path, output_dir, progress_bar):\n",
    "    try:\n",
    "        with nd2.ND2File(nd2_file_path) as dataset:\n",
    "            img_data = dataset.asarray()\n",
    "            num_z = img_data.shape[0]\n",
    "            \n",
    "            for z in range(num_z):\n",
    "                z_slice = img_data[z]\n",
    "                output_filename = os.path.basename(nd2_file_path).replace(\n",
    "                    '.nd2', f'_Z{z+1}.tif'\n",
    "                )\n",
    "                output_path = os.path.join(output_dir, output_filename)\n",
    "                tifffile.imwrite(output_path, z_slice)\n",
    "                \n",
    "                # Update progress for each Z-slice\n",
    "                progress_bar.update(1)\n",
    "                progress_bar.set_postfix({\n",
    "                    'File': os.path.basename(nd2_file_path)[:15] + \"...\",\n",
    "                    'Elapsed': f\"{progress_bar.format_dict['elapsed']:.1f}s\"\n",
    "                })\n",
    "                \n",
    "    except Exception as e:\n",
    "        progress_bar.write(f\"Error processing {nd2_file_path}: {str(e)}\")"
   ]
  },
  {
   "cell_type": "code",
   "execution_count": 4,
   "id": "ce947a01-8588-43ca-a676-bf9f6076bfb1",
   "metadata": {},
   "outputs": [],
   "source": [
    "# Batch process all ND2 files in the directory\n",
    "def batch_convert_nd2_to_tif(data_directory, output_directory):\n",
    "    # Get list of ND2 files\n",
    "    nd2_files = [\n",
    "        os.path.join(data_directory, f) \n",
    "        for f in os.listdir(data_directory) \n",
    "        if f.lower().endswith('.nd2')\n",
    "    ]\n",
    "    \n",
    "    # Check if files are found\n",
    "    if not nd2_files:\n",
    "        print(\"No .nd2 files found in the specified directory.\")\n",
    "        return  # Exit the function if no files are found\n",
    "    \n",
    "    # Print the number of files found\n",
    "    print(f\"Number of .nd2 files found: {len(nd2_files)}\")\n",
    "    \n",
    "    # Pre-scan to get total Z-slices\n",
    "    total_z = 0\n",
    "    with tqdm(nd2_files, desc=\"Scanning files\", unit=\"file\") as scan_bar:\n",
    "        for f in scan_bar:\n",
    "            try:\n",
    "                with nd2.ND2File(f) as ds:\n",
    "                    total_z += ds.sizes.get('Z', 1)\n",
    "            except Exception as e:\n",
    "                print(f\"Error scanning file {f}: {str(e)}\")\n",
    "    \n",
    "    # Ensure total_z is defined before using it in the progress bar\n",
    "    if total_z == 0:\n",
    "        print(\"No Z-slices found. Exiting.\")\n",
    "        return\n",
    "    \n",
    "    # Main processing with progress bar\n",
    "    start_time = time.time()\n",
    "    with tqdm(total=total_z, desc=\"Converting\", unit=\"slice\", dynamic_ncols=True) as pbar:\n",
    "        for file_path in nd2_files:\n",
    "            convert_nd2_to_tif(file_path, output_directory, pbar)\n",
    "        \n",
    "        # Print elapsed time at the end\n",
    "        elapsed_time = time.time() - start_time\n",
    "        print(f\"Conversion completed in {elapsed_time:.2f} seconds.\")"
   ]
  },
  {
   "cell_type": "code",
   "execution_count": 5,
   "id": "d7d6515f-1c60-4a51-9274-a7d91d82c5b2",
   "metadata": {},
   "outputs": [
    {
     "name": "stdout",
     "output_type": "stream",
     "text": [
      "Number of .nd2 files found: 48\n"
     ]
    },
    {
     "name": "stderr",
     "output_type": "stream",
     "text": [
      "Scanning files: 100%|█████████████████████████████████████████████████████████████████████████████| 48/48 [00:02<00:00, 18.64file/s]\n",
      "Converting:  53%|████████████████▊               | 480/912 [2:17:47<2:04:00, 17.22s/slice, File=WellD12_Channel..., Elapsed=8266.9s]"
     ]
    },
    {
     "name": "stdout",
     "output_type": "stream",
     "text": [
      "Conversion completed in 8267.39 seconds.\n"
     ]
    },
    {
     "name": "stderr",
     "output_type": "stream",
     "text": [
      "\n"
     ]
    }
   ],
   "source": [
    "# Main execution block\n",
    "if __name__ == \"__main__\":\n",
    "    # Set input and output directories\n",
    "    data_dir = data_directory\n",
    "    output_dir = data_dir\n",
    "    \n",
    "    batch_convert_nd2_to_tif(data_dir, output_dir)"
   ]
  },
  {
   "cell_type": "code",
   "execution_count": null,
   "id": "29eed336-64cc-4cc9-9666-c733345ed4fb",
   "metadata": {},
   "outputs": [],
   "source": []
  }
 ],
 "metadata": {
  "kernelspec": {
   "display_name": "Python 3 (ipykernel)",
   "language": "python",
   "name": "python3"
  },
  "language_info": {
   "codemirror_mode": {
    "name": "ipython",
    "version": 3
   },
   "file_extension": ".py",
   "mimetype": "text/x-python",
   "name": "python",
   "nbconvert_exporter": "python",
   "pygments_lexer": "ipython3",
   "version": "3.12.9"
  }
 },
 "nbformat": 4,
 "nbformat_minor": 5
}
